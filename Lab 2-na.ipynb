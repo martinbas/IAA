{
 "cells": [
  {
   "cell_type": "markdown",
   "metadata": {},
   "source": [
    "# Laboratorio 2: Armado de un esquema de aprendizaje automático\n",
    "\n",
    "En el laboratorio final se espera que puedan poner en práctica los conocimientos adquiridos en el curso, trabajando con un conjunto de datos de clasificación.\n",
    "\n",
    "El objetivo es que se introduzcan en el desarrollo de un esquema para hacer tareas de aprendizaje automático: selección de un modelo, ajuste de hiperparámetros y evaluación.\n",
    "\n",
    "El conjunto de datos a utilizar está en `./data/loan_data.csv`. Si abren el archivo verán que al principio (las líneas que empiezan con `#`) describen el conjunto de datos y sus atributos (incluyendo el atributo de etiqueta o clase).\n",
    "\n",
    "Se espera que hagan uso de las herramientas vistas en el curso. Se espera que hagan uso especialmente de las herramientas brindadas por `scikit-learn`."
   ]
  },
  {
   "cell_type": "code",
   "execution_count": 1,
   "metadata": {},
   "outputs": [],
   "source": [
    "import numpy as np\n",
    "import pandas as pd\n",
    "import warnings\n",
    "import matplotlib.pyplot as plt\n",
    "\n",
    "\n",
    "from sklearn.preprocessing import StandardScaler\n",
    "from sklearn.pipeline import make_pipeline\n",
    "from sklearn.model_selection import GridSearchCV\n",
    "\n",
    "from sklearn.model_selection import train_test_split\n",
    "\n",
    "from sklearn.tree import DecisionTreeClassifier\n",
    "from sklearn import tree\n",
    "from sklearn.tree import plot_tree\n",
    "\n",
    "from sklearn.linear_model import SGDClassifier\n",
    "\n",
    "\n",
    "from sklearn.metrics import accuracy_score\n",
    "from sklearn.metrics import precision_score\n",
    "from sklearn.metrics import recall_score\n",
    "from sklearn.metrics import f1_score\n",
    "from sklearn.metrics import confusion_matrix\n",
    "\n",
    "from sklearn.metrics import classification_report\n",
    "\n",
    "\n",
    "from scipy import stats\n",
    "\n",
    "import graphviz \n",
    "\n",
    "from utils import plot_decision_boundary\n",
    "from utils import plot_confusion_matrix"
   ]
  },
  {
   "cell_type": "markdown",
   "metadata": {},
   "source": [
    "## Carga de datos y división en entrenamiento y evaluación\n",
    "\n",
    "La celda siguiente se encarga de la carga de datos (haciendo uso de pandas). Estos serán los que se trabajarán en el resto del laboratorio."
   ]
  },
  {
   "cell_type": "code",
   "execution_count": 2,
   "metadata": {},
   "outputs": [],
   "source": [
    "dataset = pd.read_csv(\"./data/loan_data.csv\", comment=\"#\")\n",
    "\n",
    "# División entre instancias y etiquetas\n",
    "X, y = dataset.iloc[:, 1:], dataset.TARGET\n",
    "\n",
    "# división entre entrenamiento y evaluación\n",
    "X_train, X_test, y_train, y_test = train_test_split(X, y, test_size=0.2, random_state=0)"
   ]
  },
  {
   "cell_type": "code",
   "execution_count": 3,
   "metadata": {},
   "outputs": [
    {
     "data": {
      "text/html": [
       "<div>\n",
       "<style scoped>\n",
       "    .dataframe tbody tr th:only-of-type {\n",
       "        vertical-align: middle;\n",
       "    }\n",
       "\n",
       "    .dataframe tbody tr th {\n",
       "        vertical-align: top;\n",
       "    }\n",
       "\n",
       "    .dataframe thead th {\n",
       "        text-align: right;\n",
       "    }\n",
       "</style>\n",
       "<table border=\"1\" class=\"dataframe\">\n",
       "  <thead>\n",
       "    <tr style=\"text-align: right;\">\n",
       "      <th></th>\n",
       "      <th>TARGET</th>\n",
       "      <th>LOAN</th>\n",
       "      <th>MORTDUE</th>\n",
       "      <th>VALUE</th>\n",
       "      <th>YOJ</th>\n",
       "      <th>DEROG</th>\n",
       "      <th>DELINQ</th>\n",
       "      <th>CLAGE</th>\n",
       "      <th>NINQ</th>\n",
       "      <th>CLNO</th>\n",
       "      <th>DEBTINC</th>\n",
       "    </tr>\n",
       "  </thead>\n",
       "  <tbody>\n",
       "    <tr>\n",
       "      <th>0</th>\n",
       "      <td>0</td>\n",
       "      <td>4700</td>\n",
       "      <td>88026.0</td>\n",
       "      <td>115506.0</td>\n",
       "      <td>6.0</td>\n",
       "      <td>0.0</td>\n",
       "      <td>0.0</td>\n",
       "      <td>182.248332</td>\n",
       "      <td>0.0</td>\n",
       "      <td>27.0</td>\n",
       "      <td>29.209023</td>\n",
       "    </tr>\n",
       "    <tr>\n",
       "      <th>1</th>\n",
       "      <td>0</td>\n",
       "      <td>19300</td>\n",
       "      <td>39926.0</td>\n",
       "      <td>101208.0</td>\n",
       "      <td>4.0</td>\n",
       "      <td>0.0</td>\n",
       "      <td>0.0</td>\n",
       "      <td>140.051638</td>\n",
       "      <td>0.0</td>\n",
       "      <td>14.0</td>\n",
       "      <td>31.545694</td>\n",
       "    </tr>\n",
       "    <tr>\n",
       "      <th>2</th>\n",
       "      <td>0</td>\n",
       "      <td>5700</td>\n",
       "      <td>71556.0</td>\n",
       "      <td>79538.0</td>\n",
       "      <td>2.0</td>\n",
       "      <td>0.0</td>\n",
       "      <td>0.0</td>\n",
       "      <td>92.643085</td>\n",
       "      <td>0.0</td>\n",
       "      <td>15.0</td>\n",
       "      <td>41.210012</td>\n",
       "    </tr>\n",
       "    <tr>\n",
       "      <th>3</th>\n",
       "      <td>0</td>\n",
       "      <td>13000</td>\n",
       "      <td>44875.0</td>\n",
       "      <td>57713.0</td>\n",
       "      <td>0.0</td>\n",
       "      <td>1.0</td>\n",
       "      <td>0.0</td>\n",
       "      <td>184.990324</td>\n",
       "      <td>1.0</td>\n",
       "      <td>12.0</td>\n",
       "      <td>28.602076</td>\n",
       "    </tr>\n",
       "    <tr>\n",
       "      <th>4</th>\n",
       "      <td>0</td>\n",
       "      <td>19300</td>\n",
       "      <td>72752.0</td>\n",
       "      <td>106084.0</td>\n",
       "      <td>11.0</td>\n",
       "      <td>0.0</td>\n",
       "      <td>0.0</td>\n",
       "      <td>193.707100</td>\n",
       "      <td>1.0</td>\n",
       "      <td>13.0</td>\n",
       "      <td>30.686106</td>\n",
       "    </tr>\n",
       "    <tr>\n",
       "      <th>...</th>\n",
       "      <td>...</td>\n",
       "      <td>...</td>\n",
       "      <td>...</td>\n",
       "      <td>...</td>\n",
       "      <td>...</td>\n",
       "      <td>...</td>\n",
       "      <td>...</td>\n",
       "      <td>...</td>\n",
       "      <td>...</td>\n",
       "      <td>...</td>\n",
       "      <td>...</td>\n",
       "    </tr>\n",
       "    <tr>\n",
       "      <th>1849</th>\n",
       "      <td>1</td>\n",
       "      <td>53400</td>\n",
       "      <td>228236.0</td>\n",
       "      <td>305514.0</td>\n",
       "      <td>6.0</td>\n",
       "      <td>0.0</td>\n",
       "      <td>0.0</td>\n",
       "      <td>11.148069</td>\n",
       "      <td>0.0</td>\n",
       "      <td>2.0</td>\n",
       "      <td>34.558417</td>\n",
       "    </tr>\n",
       "    <tr>\n",
       "      <th>1850</th>\n",
       "      <td>1</td>\n",
       "      <td>53600</td>\n",
       "      <td>235895.0</td>\n",
       "      <td>299772.0</td>\n",
       "      <td>5.0</td>\n",
       "      <td>0.0</td>\n",
       "      <td>0.0</td>\n",
       "      <td>112.748282</td>\n",
       "      <td>7.0</td>\n",
       "      <td>22.0</td>\n",
       "      <td>44.945929</td>\n",
       "    </tr>\n",
       "    <tr>\n",
       "      <th>1851</th>\n",
       "      <td>1</td>\n",
       "      <td>53600</td>\n",
       "      <td>208197.0</td>\n",
       "      <td>297280.0</td>\n",
       "      <td>4.0</td>\n",
       "      <td>1.0</td>\n",
       "      <td>1.0</td>\n",
       "      <td>160.485251</td>\n",
       "      <td>2.0</td>\n",
       "      <td>29.0</td>\n",
       "      <td>41.646731</td>\n",
       "    </tr>\n",
       "    <tr>\n",
       "      <th>1852</th>\n",
       "      <td>1</td>\n",
       "      <td>65500</td>\n",
       "      <td>205156.0</td>\n",
       "      <td>290239.0</td>\n",
       "      <td>2.0</td>\n",
       "      <td>0.0</td>\n",
       "      <td>0.0</td>\n",
       "      <td>98.808206</td>\n",
       "      <td>1.0</td>\n",
       "      <td>21.0</td>\n",
       "      <td>144.189001</td>\n",
       "    </tr>\n",
       "    <tr>\n",
       "      <th>1853</th>\n",
       "      <td>1</td>\n",
       "      <td>77400</td>\n",
       "      <td>87651.0</td>\n",
       "      <td>224630.0</td>\n",
       "      <td>9.0</td>\n",
       "      <td>0.0</td>\n",
       "      <td>2.0</td>\n",
       "      <td>73.469630</td>\n",
       "      <td>3.0</td>\n",
       "      <td>13.0</td>\n",
       "      <td>40.929793</td>\n",
       "    </tr>\n",
       "  </tbody>\n",
       "</table>\n",
       "<p>1854 rows × 11 columns</p>\n",
       "</div>"
      ],
      "text/plain": [
       "      TARGET   LOAN   MORTDUE     VALUE   YOJ  DEROG  DELINQ       CLAGE  \\\n",
       "0          0   4700   88026.0  115506.0   6.0    0.0     0.0  182.248332   \n",
       "1          0  19300   39926.0  101208.0   4.0    0.0     0.0  140.051638   \n",
       "2          0   5700   71556.0   79538.0   2.0    0.0     0.0   92.643085   \n",
       "3          0  13000   44875.0   57713.0   0.0    1.0     0.0  184.990324   \n",
       "4          0  19300   72752.0  106084.0  11.0    0.0     0.0  193.707100   \n",
       "...      ...    ...       ...       ...   ...    ...     ...         ...   \n",
       "1849       1  53400  228236.0  305514.0   6.0    0.0     0.0   11.148069   \n",
       "1850       1  53600  235895.0  299772.0   5.0    0.0     0.0  112.748282   \n",
       "1851       1  53600  208197.0  297280.0   4.0    1.0     1.0  160.485251   \n",
       "1852       1  65500  205156.0  290239.0   2.0    0.0     0.0   98.808206   \n",
       "1853       1  77400   87651.0  224630.0   9.0    0.0     2.0   73.469630   \n",
       "\n",
       "      NINQ  CLNO     DEBTINC  \n",
       "0      0.0  27.0   29.209023  \n",
       "1      0.0  14.0   31.545694  \n",
       "2      0.0  15.0   41.210012  \n",
       "3      1.0  12.0   28.602076  \n",
       "4      1.0  13.0   30.686106  \n",
       "...    ...   ...         ...  \n",
       "1849   0.0   2.0   34.558417  \n",
       "1850   7.0  22.0   44.945929  \n",
       "1851   2.0  29.0   41.646731  \n",
       "1852   1.0  21.0  144.189001  \n",
       "1853   3.0  13.0   40.929793  \n",
       "\n",
       "[1854 rows x 11 columns]"
      ]
     },
     "execution_count": 3,
     "metadata": {},
     "output_type": "execute_result"
    }
   ],
   "source": [
    "dataset"
   ]
  },
  {
   "cell_type": "markdown",
   "metadata": {},
   "source": [
    "\n",
    "Documentación:\n",
    "\n",
    "- https://scikit-learn.org/stable/modules/generated/sklearn.model_selection.train_test_split.html"
   ]
  },
  {
   "cell_type": "markdown",
   "metadata": {},
   "source": [
    "## Ejercicio 1: Descripción de los Datos y la Tarea\n",
    "\n",
    "Responder las siguientes preguntas:\n",
    "\n",
    "1. ¿De qué se trata el conjunto de datos?\n",
    "2. ¿Cuál es la variable objetivo que hay que predecir? ¿Qué significado tiene?\n",
    "3. ¿Qué información (atributos) hay disponible para hacer la predicción?\n",
    "4. ¿Qué atributos imagina ud. que son los más determinantes para la predicción?\n",
    "\n",
    "**No hace falta escribir código para responder estas preguntas.**"
   ]
  },
  {
   "cell_type": "markdown",
   "metadata": {},
   "source": [
    "### 1.1\n",
    "\n",
    "Se refiere a los datos de créditos de consumo y provee 10 variables explicativas de la situación y capacidad de pago de un conjunto de clientes\n",
    "\n",
    "* __TARGET__: (variable binaria); 1 = préstamo defaulteado - 0 = Préstamo cancelado.\n",
    "* __LOAN__:    Préstamo requerido ($).\n",
    "* __MORTDUE__: Deuda restante.\n",
    "* __VALUE__:   Valor de la propiedad actual.\n",
    "* __YOJ__:     Años de antiguedad en el trabajo actual.\n",
    "* __DEROG__:   Número de informes negativos importantes en la escala de créditos (veraz).\n",
    "* __DELINQ__:  Número de líneas de crédito morosas (más de un mes).\n",
    "* __CLAGE__:   Antigüedad del último reporte de actividad crediticia mensual(score, ..).\n",
    "* __NINQ__:    Número de líneas de crédito actuales.\n",
    "* __CLNO__:    Número de líneas de crédito.\n",
    "* __DEBTINC__: Ratio deuda-ingreso.\n",
    "\n",
    "***"
   ]
  },
  {
   "cell_type": "markdown",
   "metadata": {},
   "source": [
    "### 1.2\n",
    "\n",
    "La variable a predecir es __'TARGET'__ y significa si el cliente va a defaultear o no. En el primer caso (TARGET=1) no habría que concederle el crédito. En el segundo caso(TARGET=0), se le puede ofrecer un crédito o ampliar la línea crediticia.\n",
    "\n",
    "***"
   ]
  },
  {
   "cell_type": "markdown",
   "metadata": {},
   "source": [
    "### 1.3\n",
    "Hay muchas variables explicativas del comportamiento crediticio de una persona. El nivel de deuda solicitado y el ratio deuda - ingreso son importantes al momento de evaluar la capacidad de generar flujos de pago. El valor de la propiedad actual también es importante porque refleja la garantía del crédito. La rotación laboral indica que si se ha mantenido en el trabajo actual mucho tiempo es posible que no sea despedido y eso posibilite el pago de la deuda a contraer. La historia crediticia, ya sea\n",
    "por atrasos mayores a un mes en los pagos con sus implicancias en el veraz (DEROG) son importantes a la hora de explicar la aptitud de pago.\n",
    "\n",
    "***"
   ]
  },
  {
   "cell_type": "markdown",
   "metadata": {},
   "source": [
    "### 1.4 \n",
    "Intuitivamente podríamos decir que al considerar el score crediticio los atributos de mayor importancia son el monto del crédito, la sobrecarga de deudas (reflejada por el ratio deuda -ingreso) y la historia crediticia (reflejada por DEROG y DELINQ). La actividad de continua refinanciación refleja un cliente potencialmente problemático, de allí que CLAGE tambíen será importante. El tamaño de la deuda y activos parece tener poca relación con la posibilidad de default, esto puede ser porque al principio son importantes, pero luego la historia crediticia tiene más fuerza. Los activos son solo importantes al final, cuando el crédito es irrecuperable. Cuando ya se ha tomado la deuda, las refinanciaciones son primero una opción, de allí que la historia crediticia prima."
   ]
  },
  {
   "cell_type": "markdown",
   "metadata": {},
   "source": [
    "## Ejercicio 2: Predicción con Modelos Lineales\n",
    "\n",
    "En este ejercicio se entrenarán modelos lineales de clasificación para predecir la variable objetivo.\n",
    "\n",
    "Para ello, deberán utilizar la clase SGDClassifier de scikit-learn.\n",
    "\n",
    "Documentación:\n",
    "- https://scikit-learn.org/stable/modules/sgd.html\n",
    "- https://scikit-learn.org/stable/modules/generated/sklearn.linear_model.SGDClassifier.html\n"
   ]
  },
  {
   "cell_type": "markdown",
   "metadata": {},
   "source": [
    "### Ejercicio 2.1: SGDClassifier con hiperparámetros por defecto\n",
    "\n",
    "Entrenar y evaluar el clasificador SGDClassifier usando los valores por omisión de scikit-learn para todos los parámetros. Únicamente **fijar la semilla aleatoria** para hacer repetible el experimento.\n",
    "\n",
    "Evaluar sobre el conjunto de **entrenamiento** y sobre el conjunto de **evaluación**, reportando:\n",
    "- Accuracy\n",
    "- Precision\n",
    "- Recall\n",
    "- F1\n",
    "- matriz de confusión"
   ]
  },
  {
   "cell_type": "markdown",
   "metadata": {},
   "source": [
    "### 2.1"
   ]
  },
  {
   "cell_type": "code",
   "execution_count": 4,
   "metadata": {},
   "outputs": [],
   "source": [
    "model = SGDClassifier(random_state=0)\n",
    "model.fit(X_train, y_train)\n",
    "y_train_pred = model.predict(X_train)\n",
    "y_test_pred = model.predict(X_test)"
   ]
  },
  {
   "cell_type": "code",
   "execution_count": 5,
   "metadata": {},
   "outputs": [
    {
     "name": "stdout",
     "output_type": "stream",
     "text": [
      "              precision    recall  f1-score   support\n",
      "\n",
      "           0       0.83      1.00      0.91      1232\n",
      "           1       0.00      0.00      0.00       251\n",
      "\n",
      "    accuracy                           0.83      1483\n",
      "   macro avg       0.42      0.50      0.45      1483\n",
      "weighted avg       0.69      0.83      0.75      1483\n",
      " \n",
      " None\n"
     ]
    },
    {
     "data": {
      "image/png": "[encoded data removed]",
      "text/plain": [
       "<Figure size 432x288 with 2 Axes>"
      ]
     },
     "metadata": {
      "needs_background": "light"
     },
     "output_type": "display_data"
    }
   ],
   "source": [
    "# Entrenamiento\n",
    "cm_train = confusion_matrix(y_train, y_train_pred)\n",
    "tr_plot = plot_confusion_matrix(cm_train, [0,1])\n",
    "print(classification_report(y_train, y_train_pred,zero_division=0),'\\n',tr_plot)"
   ]
  },
  {
   "cell_type": "code",
   "execution_count": 6,
   "metadata": {},
   "outputs": [
    {
     "name": "stdout",
     "output_type": "stream",
     "text": [
      "              precision    recall  f1-score   support\n",
      "\n",
      "           0       0.84      1.00      0.92       313\n",
      "           1       0.00      0.00      0.00        58\n",
      "\n",
      "    accuracy                           0.84       371\n",
      "   macro avg       0.42      0.50      0.46       371\n",
      "weighted avg       0.71      0.84      0.77       371\n",
      " \n",
      " None\n"
     ]
    },
    {
     "data": {
      "image/png": "[encoded data removed]",
      "text/plain": [
       "<Figure size 432x288 with 2 Axes>"
      ]
     },
     "metadata": {
      "needs_background": "light"
     },
     "output_type": "display_data"
    }
   ],
   "source": [
    "# Evaluación\n",
    "cm_test = confusion_matrix(y_test, y_test_pred)\n",
    "test_plot = plot_confusion_matrix(cm_test, [0,1])\n",
    "print(classification_report(y_test, y_test_pred,zero_division=0),'\\n',test_plot)"
   ]
  },
  {
   "cell_type": "markdown",
   "metadata": {},
   "source": [
    "***"
   ]
  },
  {
   "cell_type": "markdown",
   "metadata": {},
   "source": [
    "### Ejercicio 2.2: Ajuste de Hiperparámetros\n",
    "\n",
    "Seleccionar valores para los hiperparámetros principales del SGDClassifier. Como mínimo, probar diferentes funciones de loss, tasas de entrenamiento y tasas de regularización.\n",
    "\n",
    "Para ello, usar grid-search y 5-fold cross-validation sobre el conjunto de entrenamiento para explorar muchas combinaciones posibles de valores.\n",
    "\n",
    "Reportar accuracy promedio y varianza para todas las configuraciones.\n",
    "\n",
    "Para la mejor configuración encontrada, evaluar sobre el conjunto de **entrenamiento** y sobre el conjunto de **evaluación**, reportando:\n",
    "- Accuracy\n",
    "- Precision\n",
    "- Recall\n",
    "- F1\n",
    "- matriz de confusión\n",
    "\n",
    "Documentación:\n",
    "- https://scikit-learn.org/stable/modules/grid_search.html\n",
    "- https://scikit-learn.org/stable/modules/generated/sklearn.model_selection.GridSearchCV.html"
   ]
  },
  {
   "cell_type": "markdown",
   "metadata": {},
   "source": [
    "### 2.2"
   ]
  },
  {
   "cell_type": "code",
   "execution_count": 34,
   "metadata": {},
   "outputs": [],
   "source": [
    "clf = GridSearchCV(SGDClassifier(eta0=0.1,random_state=0),{'loss':['hinge', 'log', \n",
    "                                                                   'modified_huber', \n",
    "                                                                   'squared_hinge', 'perceptron'],\n",
    "                                    'penalty':['l2', 'l1', 'elasticnet'],\n",
    "                                    'learning_rate':['constant', 'optimal', \n",
    "                                                     'invscaling', 'adaptive']},cv=5)\n",
    "\n",
    "clf.fit(X_train, y_train)\n",
    "clf.cv_results_\n",
    "\n",
    "results = pd.DataFrame(clf.cv_results_)\n",
    "results.loc[:,'variance_test_score'] = (results.std_test_score.values)**2                                              \n",
    "report = results[['param_loss','param_penalty',\n",
    "                  'param_learning_rate','mean_test_score',\n",
    "                  'variance_test_score']].sort_values('mean_test_score',ascending=False)\n",
    "#report"
   ]
  },
  {
   "cell_type": "code",
   "execution_count": 36,
   "metadata": {},
   "outputs": [
    {
     "name": "stdout",
     "output_type": "stream",
     "text": [
      "{'learning_rate': 'optimal', 'loss': 'hinge', 'penalty': 'l2'} \n",
      " 0.8307489307489307\n"
     ]
    }
   ],
   "source": [
    "print(clf.best_params_,'\\n',clf.best_score_)\n",
    "#dir(clf)"
   ]
  },
  {
   "cell_type": "code",
   "execution_count": 37,
   "metadata": {},
   "outputs": [],
   "source": [
    "# Mejor modelo\n",
    "best_model = SGDClassifier(random_state=0, learning_rate='optimal',loss='hinge',penalty='l2')\n",
    "best_model.fit(X_train, y_train)\n",
    "y_train_pred = best_model.predict(X_train)\n",
    "y_test_pred = best_model.predict(X_test)"
   ]
  },
  {
   "cell_type": "code",
   "execution_count": 38,
   "metadata": {},
   "outputs": [
    {
     "name": "stdout",
     "output_type": "stream",
     "text": [
      "              precision    recall  f1-score   support\n",
      "\n",
      "           0       0.83      1.00      0.91      1232\n",
      "           1       0.00      0.00      0.00       251\n",
      "\n",
      "    accuracy                           0.83      1483\n",
      "   macro avg       0.42      0.50      0.45      1483\n",
      "weighted avg       0.69      0.83      0.75      1483\n",
      " \n",
      " None\n"
     ]
    },
    {
     "data": {
      "image/png": "[encoded data removed]",
      "text/plain": [
       "<Figure size 432x288 with 2 Axes>"
      ]
     },
     "metadata": {
      "needs_background": "light"
     },
     "output_type": "display_data"
    }
   ],
   "source": [
    "# Entrenamiento\n",
    "cm_train = confusion_matrix(y_train, y_train_pred)\n",
    "tr_plot = plot_confusion_matrix(cm_train, [0,1])\n",
    "print(classification_report(y_train, y_train_pred,zero_division=0),'\\n',tr_plot)"
   ]
  },
  {
   "cell_type": "code",
   "execution_count": 39,
   "metadata": {},
   "outputs": [
    {
     "name": "stdout",
     "output_type": "stream",
     "text": [
      "              precision    recall  f1-score   support\n",
      "\n",
      "           0       0.84      1.00      0.92       313\n",
      "           1       0.00      0.00      0.00        58\n",
      "\n",
      "    accuracy                           0.84       371\n",
      "   macro avg       0.42      0.50      0.46       371\n",
      "weighted avg       0.71      0.84      0.77       371\n",
      " \n",
      " None\n"
     ]
    },
    {
     "data": {
      "image/png": "[encoded data removed]",
      "text/plain": [
       "<Figure size 432x288 with 2 Axes>"
      ]
     },
     "metadata": {
      "needs_background": "light"
     },
     "output_type": "display_data"
    }
   ],
   "source": [
    "# Evaluación\n",
    "cm_test = confusion_matrix(y_test, y_test_pred)\n",
    "test_plot = plot_confusion_matrix(cm_test, [0,1])\n",
    "print(classification_report(y_test, y_test_pred,zero_division=0),'\\n',test_plot)"
   ]
  },
  {
   "cell_type": "markdown",
   "metadata": {},
   "source": [
    "***"
   ]
  },
  {
   "cell_type": "markdown",
   "metadata": {},
   "source": [
    "## Ejercicio 3: Árboles de Decisión\n",
    "\n",
    "En este ejercicio se entrenarán árboles de decisión para predecir la variable objetivo.\n",
    "\n",
    "Para ello, deberán utilizar la clase DecisionTreeClassifier de scikit-learn.\n",
    "\n",
    "Documentación:\n",
    "- https://scikit-learn.org/stable/modules/tree.html\n",
    "  - https://scikit-learn.org/stable/modules/tree.html#tips-on-practical-use\n",
    "- https://scikit-learn.org/stable/modules/generated/sklearn.tree.DecisionTreeClassifier.html\n",
    "- https://scikit-learn.org/stable/auto_examples/tree/plot_unveil_tree_structure.html"
   ]
  },
  {
   "cell_type": "markdown",
   "metadata": {},
   "source": [
    "### Ejercicio 3.1: DecisionTreeClassifier con hiperparámetros por defecto\n",
    "\n",
    "Entrenar y evaluar el clasificador DecisionTreeClassifier usando los valores por omisión de scikit-learn para todos los parámetros. Únicamente **fijar la semilla aleatoria** para hacer repetible el experimento.\n",
    "\n",
    "Evaluar sobre el conjunto de **entrenamiento** y sobre el conjunto de **evaluación**, reportando:\n",
    "- Accuracy\n",
    "- Precision\n",
    "- Recall\n",
    "- F1\n",
    "- matriz de confusión\n"
   ]
  },
  {
   "cell_type": "markdown",
   "metadata": {},
   "source": [
    "### 3.1"
   ]
  },
  {
   "cell_type": "code",
   "execution_count": 40,
   "metadata": {},
   "outputs": [],
   "source": [
    "clt = DecisionTreeClassifier(random_state=0)\n",
    "clt.fit(X_train, y_train)\n",
    "\n",
    "# Predicción y evaluación\n",
    "y_train_pred = clt.predict(X_train)\n",
    "y_test_pred = clt.predict(X_test)\n",
    "#tree.plot_tree(clt)"
   ]
  },
  {
   "cell_type": "code",
   "execution_count": 41,
   "metadata": {},
   "outputs": [
    {
     "name": "stdout",
     "output_type": "stream",
     "text": [
      "              precision    recall  f1-score   support\n",
      "\n",
      "           0       1.00      1.00      1.00      1232\n",
      "           1       1.00      1.00      1.00       251\n",
      "\n",
      "    accuracy                           1.00      1483\n",
      "   macro avg       1.00      1.00      1.00      1483\n",
      "weighted avg       1.00      1.00      1.00      1483\n",
      " \n",
      " None\n"
     ]
    },
    {
     "data": {
      "image/png": "[encoded data removed]",
      "text/plain": [
       "<Figure size 432x288 with 2 Axes>"
      ]
     },
     "metadata": {
      "needs_background": "light"
     },
     "output_type": "display_data"
    }
   ],
   "source": [
    "# Entrenamiento\n",
    "cm_train = confusion_matrix(y_train, y_train_pred)\n",
    "tr_plot = plot_confusion_matrix(cm_train, [0,1])\n",
    "print(classification_report(y_train, y_train_pred,zero_division=0),'\\n',tr_plot)"
   ]
  },
  {
   "cell_type": "code",
   "execution_count": 42,
   "metadata": {},
   "outputs": [
    {
     "name": "stdout",
     "output_type": "stream",
     "text": [
      "              precision    recall  f1-score   support\n",
      "\n",
      "           0       0.93      0.93      0.93       313\n",
      "           1       0.62      0.64      0.63        58\n",
      "\n",
      "    accuracy                           0.88       371\n",
      "   macro avg       0.77      0.78      0.78       371\n",
      "weighted avg       0.88      0.88      0.88       371\n",
      " \n",
      " None\n"
     ]
    },
    {
     "data": {
      "image/png": "[encoded data removed]",
      "text/plain": [
       "<Figure size 432x288 with 2 Axes>"
      ]
     },
     "metadata": {
      "needs_background": "light"
     },
     "output_type": "display_data"
    }
   ],
   "source": [
    "# Evaluación\n",
    "cm_test = confusion_matrix(y_test, y_test_pred)\n",
    "test_plot = plot_confusion_matrix(cm_test, [0,1])\n",
    "print(classification_report(y_test, y_test_pred,zero_division=0),'\\n',test_plot)"
   ]
  },
  {
   "cell_type": "markdown",
   "metadata": {},
   "source": [
    "***"
   ]
  },
  {
   "cell_type": "markdown",
   "metadata": {},
   "source": [
    "### Ejercicio 3.2: Ajuste de Hiperparámetros\n",
    "\n",
    "Seleccionar valores para los hiperparámetros principales del DecisionTreeClassifier. Como mínimo, probar diferentes criterios de partición (criterion), profundidad máxima del árbol (max_depth), y cantidad mínima de samples por hoja (min_samples_leaf).\n",
    "\n",
    "Para ello, usar grid-search y 5-fold cross-validation sobre el conjunto de entrenamiento para explorar muchas combinaciones posibles de valores.\n",
    "\n",
    "Reportar accuracy promedio y varianza para todas las configuraciones.\n",
    "\n",
    "Para la mejor configuración encontrada, evaluar sobre el conjunto de **entrenamiento** y sobre el conjunto de **evaluación**, reportando:\n",
    "- Accuracy\n",
    "- Precision\n",
    "- Recall\n",
    "- F1\n",
    "- matriz de confusión\n",
    "\n",
    "\n",
    "Documentación:\n",
    "- https://scikit-learn.org/stable/modules/grid_search.html\n",
    "- https://scikit-learn.org/stable/modules/generated/sklearn.model_selection.GridSearchCV.html"
   ]
  },
  {
   "cell_type": "markdown",
   "metadata": {},
   "source": [
    "### 3.2"
   ]
  },
  {
   "cell_type": "code",
   "execution_count": 45,
   "metadata": {},
   "outputs": [],
   "source": [
    "cl_tree = GridSearchCV(DecisionTreeClassifier(random_state=0),{'criterion':['gini', 'entropy'],\n",
    "                                                  'max_depth':[1,2,3,4,5,None],\n",
    "                                                  'min_samples_leaf':[1,2,3,4,5]},cv=5)\n",
    "\n",
    "cl_tree.fit(X_train, y_train)\n",
    "cl_tree.cv_results_\n",
    "\n",
    "results_tr = pd.DataFrame(cl_tree.cv_results_)\n",
    "results_tr.loc[:,'variance_test_score'] = (results_tr.std_test_score.values)**2                                              \n",
    "report_tr = results_tr[['param_criterion','param_max_depth',\n",
    "                        'param_min_samples_leaf' ,'mean_test_score',\n",
    "                        'variance_test_score']].sort_values('mean_test_score',ascending=False)\n",
    "#report_tr"
   ]
  },
  {
   "cell_type": "code",
   "execution_count": 46,
   "metadata": {},
   "outputs": [
    {
     "name": "stdout",
     "output_type": "stream",
     "text": [
      "{'criterion': 'gini', 'max_depth': 4, 'min_samples_leaf': 3} \n",
      " 0.8799777049777051\n"
     ]
    }
   ],
   "source": [
    "print(cl_tree.best_params_,'\\n',cl_tree.best_score_)"
   ]
  },
  {
   "cell_type": "code",
   "execution_count": 47,
   "metadata": {},
   "outputs": [],
   "source": [
    "# Mejor modelo\n",
    "bm_tr = DecisionTreeClassifier(random_state=0, criterion='gini',max_depth=4,min_samples_leaf=3)\n",
    "bm_tr.fit(X_train, y_train)\n",
    "y_train_pred = bm_tr.predict(X_train)\n",
    "y_test_pred = bm_tr.predict(X_test)"
   ]
  },
  {
   "cell_type": "code",
   "execution_count": 48,
   "metadata": {},
   "outputs": [
    {
     "name": "stdout",
     "output_type": "stream",
     "text": [
      "              precision    recall  f1-score   support\n",
      "\n",
      "           0       0.89      0.99      0.94      1232\n",
      "           1       0.92      0.42      0.58       251\n",
      "\n",
      "    accuracy                           0.90      1483\n",
      "   macro avg       0.91      0.71      0.76      1483\n",
      "weighted avg       0.90      0.90      0.88      1483\n",
      " \n",
      " None\n"
     ]
    },
    {
     "data": {
      "image/png": "[encoded data removed]",
      "text/plain": [
       "<Figure size 432x288 with 2 Axes>"
      ]
     },
     "metadata": {
      "needs_background": "light"
     },
     "output_type": "display_data"
    }
   ],
   "source": [
    "# Entrenamiento\n",
    "cm_train = confusion_matrix(y_train, y_train_pred)\n",
    "tr_plot = plot_confusion_matrix(cm_train, [0,1])\n",
    "print(classification_report(y_train, y_train_pred,zero_division=0),'\\n',tr_plot)"
   ]
  },
  {
   "cell_type": "code",
   "execution_count": 49,
   "metadata": {},
   "outputs": [
    {
     "name": "stdout",
     "output_type": "stream",
     "text": [
      "              precision    recall  f1-score   support\n",
      "\n",
      "           0       0.89      0.97      0.93       313\n",
      "           1       0.73      0.38      0.50        58\n",
      "\n",
      "    accuracy                           0.88       371\n",
      "   macro avg       0.81      0.68      0.72       371\n",
      "weighted avg       0.87      0.88      0.87       371\n",
      " \n",
      " None\n"
     ]
    },
    {
     "data": {
      "image/png": "[encoded data removed]",
      "text/plain": [
       "<Figure size 432x288 with 2 Axes>"
      ]
     },
     "metadata": {
      "needs_background": "light"
     },
     "output_type": "display_data"
    }
   ],
   "source": [
    "# Evaluación\n",
    "cm_test = confusion_matrix(y_test, y_test_pred)\n",
    "test_plot = plot_confusion_matrix(cm_test, [0,1])\n",
    "print(classification_report(y_test, y_test_pred,zero_division=0),'\\n',test_plot)"
   ]
  },
  {
   "cell_type": "markdown",
   "metadata": {},
   "source": [
    "***"
   ]
  }
 ],
 "metadata": {
  "kernelspec": {
   "display_name": "Python 3",
   "language": "python",
   "name": "python3"
  },
  "language_info": {
   "codemirror_mode": {
    "name": "ipython",
    "version": 3
   },
   "file_extension": ".py",
   "mimetype": "text/x-python",
   "name": "python",
   "nbconvert_exporter": "python",
   "pygments_lexer": "ipython3",
   "version": "3.8.2"
  }
 },
 "nbformat": 4,
 "nbformat_minor": 4
}
